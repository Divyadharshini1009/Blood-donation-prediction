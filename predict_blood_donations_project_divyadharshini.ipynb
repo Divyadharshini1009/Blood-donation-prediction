{
  "cells": [
    {
      "cell_type": "code",
      "execution_count": null,
      "metadata": {
        "colab": {
          "background_save": true,
          "base_uri": "https://localhost:8080/",
          "height": 36
        },
        "id": "mA6ACxnFdIbR",
        "outputId": "5f0bdcb4-4caa-44db-c1be-72682cb2023d"
      },
      "outputs": [
        {
          "data": {
            "text/html": [
              "\n",
              "     <input type=\"file\" id=\"files-d9533e6c-eefe-4e2c-9574-3b9d79c09bcf\" name=\"files[]\" multiple disabled\n",
              "        style=\"border:none\" />\n",
              "     <output id=\"result-d9533e6c-eefe-4e2c-9574-3b9d79c09bcf\">\n",
              "      Upload widget is only available when the cell has been executed in the\n",
              "      current browser session. Please rerun this cell to enable.\n",
              "      </output>\n",
              "      <script>// Copyright 2017 Google LLC\n",
              "//\n",
              "// Licensed under the Apache License, Version 2.0 (the \"License\");\n",
              "// you may not use this file except in compliance with the License.\n",
              "// You may obtain a copy of the License at\n",
              "//\n",
              "//      http://www.apache.org/licenses/LICENSE-2.0\n",
              "//\n",
              "// Unless required by applicable law or agreed to in writing, software\n",
              "// distributed under the License is distributed on an \"AS IS\" BASIS,\n",
              "// WITHOUT WARRANTIES OR CONDITIONS OF ANY KIND, either express or implied.\n",
              "// See the License for the specific language governing permissions and\n",
              "// limitations under the License.\n",
              "\n",
              "/**\n",
              " * @fileoverview Helpers for google.colab Python module.\n",
              " */\n",
              "(function(scope) {\n",
              "function span(text, styleAttributes = {}) {\n",
              "  const element = document.createElement('span');\n",
              "  element.textContent = text;\n",
              "  for (const key of Object.keys(styleAttributes)) {\n",
              "    element.style[key] = styleAttributes[key];\n",
              "  }\n",
              "  return element;\n",
              "}\n",
              "\n",
              "// Max number of bytes which will be uploaded at a time.\n",
              "const MAX_PAYLOAD_SIZE = 100 * 1024;\n",
              "\n",
              "function _uploadFiles(inputId, outputId) {\n",
              "  const steps = uploadFilesStep(inputId, outputId);\n",
              "  const outputElement = document.getElementById(outputId);\n",
              "  // Cache steps on the outputElement to make it available for the next call\n",
              "  // to uploadFilesContinue from Python.\n",
              "  outputElement.steps = steps;\n",
              "\n",
              "  return _uploadFilesContinue(outputId);\n",
              "}\n",
              "\n",
              "// This is roughly an async generator (not supported in the browser yet),\n",
              "// where there are multiple asynchronous steps and the Python side is going\n",
              "// to poll for completion of each step.\n",
              "// This uses a Promise to block the python side on completion of each step,\n",
              "// then passes the result of the previous step as the input to the next step.\n",
              "function _uploadFilesContinue(outputId) {\n",
              "  const outputElement = document.getElementById(outputId);\n",
              "  const steps = outputElement.steps;\n",
              "\n",
              "  const next = steps.next(outputElement.lastPromiseValue);\n",
              "  return Promise.resolve(next.value.promise).then((value) => {\n",
              "    // Cache the last promise value to make it available to the next\n",
              "    // step of the generator.\n",
              "    outputElement.lastPromiseValue = value;\n",
              "    return next.value.response;\n",
              "  });\n",
              "}\n",
              "\n",
              "/**\n",
              " * Generator function which is called between each async step of the upload\n",
              " * process.\n",
              " * @param {string} inputId Element ID of the input file picker element.\n",
              " * @param {string} outputId Element ID of the output display.\n",
              " * @return {!Iterable<!Object>} Iterable of next steps.\n",
              " */\n",
              "function* uploadFilesStep(inputId, outputId) {\n",
              "  const inputElement = document.getElementById(inputId);\n",
              "  inputElement.disabled = false;\n",
              "\n",
              "  const outputElement = document.getElementById(outputId);\n",
              "  outputElement.innerHTML = '';\n",
              "\n",
              "  const pickedPromise = new Promise((resolve) => {\n",
              "    inputElement.addEventListener('change', (e) => {\n",
              "      resolve(e.target.files);\n",
              "    });\n",
              "  });\n",
              "\n",
              "  const cancel = document.createElement('button');\n",
              "  inputElement.parentElement.appendChild(cancel);\n",
              "  cancel.textContent = 'Cancel upload';\n",
              "  const cancelPromise = new Promise((resolve) => {\n",
              "    cancel.onclick = () => {\n",
              "      resolve(null);\n",
              "    };\n",
              "  });\n",
              "\n",
              "  // Wait for the user to pick the files.\n",
              "  const files = yield {\n",
              "    promise: Promise.race([pickedPromise, cancelPromise]),\n",
              "    response: {\n",
              "      action: 'starting',\n",
              "    }\n",
              "  };\n",
              "\n",
              "  cancel.remove();\n",
              "\n",
              "  // Disable the input element since further picks are not allowed.\n",
              "  inputElement.disabled = true;\n",
              "\n",
              "  if (!files) {\n",
              "    return {\n",
              "      response: {\n",
              "        action: 'complete',\n",
              "      }\n",
              "    };\n",
              "  }\n",
              "\n",
              "  for (const file of files) {\n",
              "    const li = document.createElement('li');\n",
              "    li.append(span(file.name, {fontWeight: 'bold'}));\n",
              "    li.append(span(\n",
              "        `(${file.type || 'n/a'}) - ${file.size} bytes, ` +\n",
              "        `last modified: ${\n",
              "            file.lastModifiedDate ? file.lastModifiedDate.toLocaleDateString() :\n",
              "                                    'n/a'} - `));\n",
              "    const percent = span('0% done');\n",
              "    li.appendChild(percent);\n",
              "\n",
              "    outputElement.appendChild(li);\n",
              "\n",
              "    const fileDataPromise = new Promise((resolve) => {\n",
              "      const reader = new FileReader();\n",
              "      reader.onload = (e) => {\n",
              "        resolve(e.target.result);\n",
              "      };\n",
              "      reader.readAsArrayBuffer(file);\n",
              "    });\n",
              "    // Wait for the data to be ready.\n",
              "    let fileData = yield {\n",
              "      promise: fileDataPromise,\n",
              "      response: {\n",
              "        action: 'continue',\n",
              "      }\n",
              "    };\n",
              "\n",
              "    // Use a chunked sending to avoid message size limits. See b/62115660.\n",
              "    let position = 0;\n",
              "    do {\n",
              "      const length = Math.min(fileData.byteLength - position, MAX_PAYLOAD_SIZE);\n",
              "      const chunk = new Uint8Array(fileData, position, length);\n",
              "      position += length;\n",
              "\n",
              "      const base64 = btoa(String.fromCharCode.apply(null, chunk));\n",
              "      yield {\n",
              "        response: {\n",
              "          action: 'append',\n",
              "          file: file.name,\n",
              "          data: base64,\n",
              "        },\n",
              "      };\n",
              "\n",
              "      let percentDone = fileData.byteLength === 0 ?\n",
              "          100 :\n",
              "          Math.round((position / fileData.byteLength) * 100);\n",
              "      percent.textContent = `${percentDone}% done`;\n",
              "\n",
              "    } while (position < fileData.byteLength);\n",
              "  }\n",
              "\n",
              "  // All done.\n",
              "  yield {\n",
              "    response: {\n",
              "      action: 'complete',\n",
              "    }\n",
              "  };\n",
              "}\n",
              "\n",
              "scope.google = scope.google || {};\n",
              "scope.google.colab = scope.google.colab || {};\n",
              "scope.google.colab._files = {\n",
              "  _uploadFiles,\n",
              "  _uploadFilesContinue,\n",
              "};\n",
              "})(self);\n",
              "</script> "
            ],
            "text/plain": [
              "<IPython.core.display.HTML object>"
            ]
          },
          "metadata": {},
          "output_type": "display_data"
        }
      ],
      "source": [
        "from google.colab import files\n",
        "uploaded = files.upload()\n"
      ]
    },
    {
      "cell_type": "code",
      "execution_count": null,
      "metadata": {
        "colab": {
          "base_uri": "https://localhost:8080/"
        },
        "id": "oI2TCZrodaVM",
        "outputId": "75830424-ca41-4334-f146-a07bf0d4133f"
      },
      "outputs": [
        {
          "data": {
            "text/plain": [
              "['Give Life: Predict Blood Donations']"
            ]
          },
          "execution_count": 2,
          "metadata": {},
          "output_type": "execute_result"
        }
      ],
      "source": [
        "import zipfile\n",
        "import os\n",
        "zip_file_path = 'Data Analyst.zip'\n",
        "\n",
        "\n",
        "with zipfile.ZipFile(zip_file_path, 'r') as zip_ref:\n",
        "    zip_ref.extractall('/content/dataset')\n",
        "os.listdir('/content/dataset')\n"
      ]
    },
    {
      "cell_type": "code",
      "execution_count": null,
      "metadata": {
        "colab": {
          "base_uri": "https://localhost:8080/"
        },
        "id": "25VeUt5Pe8Ps",
        "outputId": "1616724f-7292-41db-d40e-70af37ebd7e0"
      },
      "outputs": [
        {
          "data": {
            "text/plain": [
              "['datasets', 'notebook.ipynb']"
            ]
          },
          "execution_count": 5,
          "metadata": {},
          "output_type": "execute_result"
        }
      ],
      "source": [
        "folder_path = '/content/dataset/Give Life: Predict Blood Donations'\n",
        "os.listdir(folder_path)\n"
      ]
    },
    {
      "cell_type": "code",
      "execution_count": null,
      "metadata": {
        "colab": {
          "base_uri": "https://localhost:8080/"
        },
        "id": "XcZ_mezTfLjG",
        "outputId": "ae9b9e06-65a9-40d7-94c4-08a05a53aaba"
      },
      "outputs": [
        {
          "data": {
            "text/plain": [
              "['transfusion.data']"
            ]
          },
          "execution_count": 6,
          "metadata": {},
          "output_type": "execute_result"
        }
      ],
      "source": [
        "dataset_folder_path = '/content/dataset/Give Life: Predict Blood Donations/datasets'\n",
        "\n",
        "os.listdir(dataset_folder_path)\n"
      ]
    },
    {
      "cell_type": "code",
      "execution_count": null,
      "metadata": {
        "colab": {
          "base_uri": "https://localhost:8080/"
        },
        "id": "ni86p5DOmrH6",
        "outputId": "1e3f8940-9712-48d3-b361-299a4a68f090"
      },
      "outputs": [
        {
          "name": "stdout",
          "output_type": "stream",
          "text": [
            "<class 'pandas.core.frame.DataFrame'>\n",
            "RangeIndex: 748 entries, 0 to 747\n",
            "Data columns (total 5 columns):\n",
            " #   Column                 Non-Null Count  Dtype\n",
            "---  ------                 --------------  -----\n",
            " 0   Recency (months)       748 non-null    int64\n",
            " 1   Frequency (times)      748 non-null    int64\n",
            " 2   Monetary (c.c. blood)  748 non-null    int64\n",
            " 3   Time (months)          748 non-null    int64\n",
            " 4   target                 748 non-null    int64\n",
            "dtypes: int64(5)\n",
            "memory usage: 29.3 KB\n"
          ]
        }
      ],
      "source": [
        "# Inspect the DataFrame's structure\n",
        "transfusion.info()\n"
      ]
    },
    {
      "cell_type": "code",
      "execution_count": null,
      "metadata": {
        "colab": {
          "base_uri": "https://localhost:8080/"
        },
        "id": "ngSlpFe8fVBO",
        "outputId": "d60b7abc-0037-4c3e-86e6-442a77ef39ed"
      },
      "outputs": [
        {
          "name": "stdout",
          "output_type": "stream",
          "text": [
            "   Recency (months)  Frequency (times)  Monetary (c.c. blood)  Time (months)  \\\n",
            "0                 2                 50                  12500             98   \n",
            "1                 0                 13                   3250             28   \n",
            "2                 1                 16                   4000             35   \n",
            "3                 2                 20                   5000             45   \n",
            "4                 1                 24                   6000             77   \n",
            "\n",
            "   whether he/she donated blood in March 2007  \n",
            "0                                           1  \n",
            "1                                           1  \n",
            "2                                           1  \n",
            "3                                           1  \n",
            "4                                           0  \n"
          ]
        }
      ],
      "source": [
        "import pandas as pd\n",
        "file_path = '/content/dataset/Give Life: Predict Blood Donations/datasets/transfusion.data'\n",
        "\n",
        "transfusion = pd.read_csv(file_path)\n",
        "\n",
        "print(transfusion.head())"
      ]
    },
    {
      "cell_type": "code",
      "execution_count": null,
      "metadata": {
        "colab": {
          "base_uri": "https://localhost:8080/"
        },
        "id": "rLNP8rs6f3l5",
        "outputId": "0d83dc69-756e-41b2-97ed-acc110dfb9c7"
      },
      "outputs": [
        {
          "name": "stdout",
          "output_type": "stream",
          "text": [
            "   Recency (months)  Frequency (times)  Monetary (c.c. blood)  Time (months)  \\\n",
            "0                 2                 50                  12500             98   \n",
            "1                 0                 13                   3250             28   \n",
            "\n",
            "   target  \n",
            "0       1  \n",
            "1       1  \n"
          ]
        }
      ],
      "source": [
        "# Rename the column\n",
        "transfusion.rename(columns={'whether he/she donated blood in March 2007': 'target'}, inplace=True)\n",
        "\n",
        "# Verify the change\n",
        "print(transfusion.head(2))\n"
      ]
    },
    {
      "cell_type": "code",
      "execution_count": null,
      "metadata": {
        "colab": {
          "base_uri": "https://localhost:8080/"
        },
        "id": "2yO9xF-QgFr2",
        "outputId": "8128431b-a24f-445b-c349-de4630d07d69"
      },
      "outputs": [
        {
          "name": "stdout",
          "output_type": "stream",
          "text": [
            "target\n",
            "0    0.762\n",
            "1    0.238\n",
            "Name: proportion, dtype: float64\n"
          ]
        }
      ],
      "source": [
        "# target incidence (distribution of 0s and 1s)\n",
        "print(transfusion['target'].value_counts(normalize=True).round(3))\n"
      ]
    },
    {
      "cell_type": "code",
      "execution_count": null,
      "metadata": {
        "colab": {
          "base_uri": "https://localhost:8080/"
        },
        "id": "0qbmXB2fgQor",
        "outputId": "f4348bfa-6c0b-4a4c-ab3e-3e4ac6ffe780"
      },
      "outputs": [
        {
          "name": "stdout",
          "output_type": "stream",
          "text": [
            "     Recency (months)  Frequency (times)  Monetary (c.c. blood)  Time (months)\n",
            "529                 2                  6                   1500             22\n",
            "271                16                  7                   1750             28\n"
          ]
        }
      ],
      "source": [
        "from sklearn.model_selection import train_test_split\n",
        "\n",
        "# Split the data into features (X) and target (y)\n",
        "X = transfusion.drop(columns=['target'])\n",
        "y = transfusion['target']\n",
        "\n",
        "# Split into training and testing datasets (80% train, 20% test), with stratification to maintain balance in target classes\n",
        "X_train, X_test, y_train, y_test = train_test_split(X, y, test_size=0.2, stratify=y, random_state=42)\n",
        "\n",
        "# Verify by printing the first 2 rows of X_train\n",
        "print(X_train.head(2))\n"
      ]
    },
    {
      "cell_type": "code",
      "execution_count": null,
      "metadata": {
        "colab": {
          "base_uri": "https://localhost:8080/"
        },
        "id": "2iP0GDgIgbSD",
        "outputId": "ee80c114-0ce3-4d4b-f16b-c7e541987c4d"
      },
      "outputs": [
        {
          "name": "stdout",
          "output_type": "stream",
          "text": [
            "Recency (months)              67.473\n",
            "Frequency (times)             32.624\n",
            "Monetary (c.c. blood)    2039028.756\n",
            "Time (months)                599.952\n",
            "dtype: float64\n"
          ]
        }
      ],
      "source": [
        "#variance of features in X_train\n",
        "print(X_train.var().round(3))\n"
      ]
    },
    {
      "cell_type": "code",
      "execution_count": null,
      "metadata": {
        "colab": {
          "base_uri": "https://localhost:8080/"
        },
        "id": "orfBrEAkhmnf",
        "outputId": "260e08bc-928e-4f25-cd9a-d2f4afb23923"
      },
      "outputs": [
        {
          "name": "stdout",
          "output_type": "stream",
          "text": [
            "Recency (months)         1.002\n",
            "Frequency (times)        1.002\n",
            "Monetary (c.c. blood)    1.002\n",
            "Time (months)            1.002\n",
            "dtype: float64\n"
          ]
        }
      ],
      "source": [
        "from sklearn.preprocessing import StandardScaler\n",
        "\n",
        "# Initialize the scaler\n",
        "scaler = StandardScaler()\n",
        "\n",
        "# Apply scaling to the training and test data\n",
        "X_train_normed = scaler.fit_transform(X_train)\n",
        "X_test_normed = scaler.transform(X_test)\n",
        "\n",
        "# Convert the normalized data back to DataFrame for easier inspection\n",
        "X_train_normed = pd.DataFrame(X_train_normed, columns=X_train.columns)\n",
        "X_test_normed = pd.DataFrame(X_test_normed, columns=X_test.columns)\n",
        "\n",
        "# Check the variance of the normalized data\n",
        "print(pd.DataFrame(X_train_normed).var().round(3))\n"
      ]
    },
    {
      "cell_type": "code",
      "execution_count": null,
      "metadata": {
        "colab": {
          "base_uri": "https://localhost:8080/"
        },
        "id": "tlDRfQRJkIcl",
        "outputId": "fc7e930b-8dbb-463d-b494-2c2a42a4c6ec"
      },
      "outputs": [
        {
          "name": "stdout",
          "output_type": "stream",
          "text": [
            "Collecting tpot\n",
            "  Downloading TPOT-0.12.2-py3-none-any.whl.metadata (2.0 kB)\n",
            "Requirement already satisfied: numpy>=1.16.3 in /usr/local/lib/python3.11/dist-packages (from tpot) (1.26.4)\n",
            "Requirement already satisfied: scipy>=1.3.1 in /usr/local/lib/python3.11/dist-packages (from tpot) (1.13.1)\n",
            "Requirement already satisfied: scikit-learn>=1.4.1 in /usr/local/lib/python3.11/dist-packages (from tpot) (1.6.1)\n",
            "Collecting deap>=1.2 (from tpot)\n",
            "  Downloading deap-1.4.2-cp311-cp311-manylinux_2_5_x86_64.manylinux1_x86_64.manylinux_2_17_x86_64.manylinux2014_x86_64.whl.metadata (13 kB)\n",
            "Collecting update-checker>=0.16 (from tpot)\n",
            "  Downloading update_checker-0.18.0-py3-none-any.whl.metadata (2.3 kB)\n",
            "Requirement already satisfied: tqdm>=4.36.1 in /usr/local/lib/python3.11/dist-packages (from tpot) (4.67.1)\n",
            "Collecting stopit>=1.1.1 (from tpot)\n",
            "  Downloading stopit-1.1.2.tar.gz (18 kB)\n",
            "  Preparing metadata (setup.py) ... \u001b[?25l\u001b[?25hdone\n",
            "Requirement already satisfied: pandas>=0.24.2 in /usr/local/lib/python3.11/dist-packages (from tpot) (2.2.2)\n",
            "Requirement already satisfied: joblib>=0.13.2 in /usr/local/lib/python3.11/dist-packages (from tpot) (1.4.2)\n",
            "Requirement already satisfied: xgboost>=1.1.0 in /usr/local/lib/python3.11/dist-packages (from tpot) (2.1.4)\n",
            "Requirement already satisfied: python-dateutil>=2.8.2 in /usr/local/lib/python3.11/dist-packages (from pandas>=0.24.2->tpot) (2.8.2)\n",
            "Requirement already satisfied: pytz>=2020.1 in /usr/local/lib/python3.11/dist-packages (from pandas>=0.24.2->tpot) (2025.1)\n",
            "Requirement already satisfied: tzdata>=2022.7 in /usr/local/lib/python3.11/dist-packages (from pandas>=0.24.2->tpot) (2025.1)\n",
            "Requirement already satisfied: threadpoolctl>=3.1.0 in /usr/local/lib/python3.11/dist-packages (from scikit-learn>=1.4.1->tpot) (3.5.0)\n",
            "Requirement already satisfied: requests>=2.3.0 in /usr/local/lib/python3.11/dist-packages (from update-checker>=0.16->tpot) (2.32.3)\n",
            "Requirement already satisfied: nvidia-nccl-cu12 in /usr/local/lib/python3.11/dist-packages (from xgboost>=1.1.0->tpot) (2.21.5)\n",
            "Requirement already satisfied: six>=1.5 in /usr/local/lib/python3.11/dist-packages (from python-dateutil>=2.8.2->pandas>=0.24.2->tpot) (1.17.0)\n",
            "Requirement already satisfied: charset-normalizer<4,>=2 in /usr/local/lib/python3.11/dist-packages (from requests>=2.3.0->update-checker>=0.16->tpot) (3.4.1)\n",
            "Requirement already satisfied: idna<4,>=2.5 in /usr/local/lib/python3.11/dist-packages (from requests>=2.3.0->update-checker>=0.16->tpot) (3.10)\n",
            "Requirement already satisfied: urllib3<3,>=1.21.1 in /usr/local/lib/python3.11/dist-packages (from requests>=2.3.0->update-checker>=0.16->tpot) (2.3.0)\n",
            "Requirement already satisfied: certifi>=2017.4.17 in /usr/local/lib/python3.11/dist-packages (from requests>=2.3.0->update-checker>=0.16->tpot) (2025.1.31)\n",
            "Downloading TPOT-0.12.2-py3-none-any.whl (87 kB)\n",
            "\u001b[2K   \u001b[90m━━━━━━━━━━━━━━━━━━━━━━━━━━━━━━━━━━━━━━━━\u001b[0m \u001b[32m87.4/87.4 kB\u001b[0m \u001b[31m3.1 MB/s\u001b[0m eta \u001b[36m0:00:00\u001b[0m\n",
            "\u001b[?25hDownloading deap-1.4.2-cp311-cp311-manylinux_2_5_x86_64.manylinux1_x86_64.manylinux_2_17_x86_64.manylinux2014_x86_64.whl (135 kB)\n",
            "\u001b[2K   \u001b[90m━━━━━━━━━━━━━━━━━━━━━━━━━━━━━━━━━━━━━━━━\u001b[0m \u001b[32m135.4/135.4 kB\u001b[0m \u001b[31m5.4 MB/s\u001b[0m eta \u001b[36m0:00:00\u001b[0m\n",
            "\u001b[?25hDownloading update_checker-0.18.0-py3-none-any.whl (7.0 kB)\n",
            "Building wheels for collected packages: stopit\n",
            "  Building wheel for stopit (setup.py) ... \u001b[?25l\u001b[?25hdone\n",
            "  Created wheel for stopit: filename=stopit-1.1.2-py3-none-any.whl size=11939 sha256=d4fa3c6c131c1bafbea4a03f1159e1805d6c77bceeb0858284bb21dffcd634a6\n",
            "  Stored in directory: /root/.cache/pip/wheels/da/77/2d/adbc56bc4db95ad80c6d4e71cd69e2d9d122174904342e3f7f\n",
            "Successfully built stopit\n",
            "Installing collected packages: stopit, deap, update-checker, tpot\n",
            "Successfully installed deap-1.4.2 stopit-1.1.2 tpot-0.12.2 update-checker-0.18.0\n"
          ]
        }
      ],
      "source": [
        "!pip install tpot\n"
      ]
    },
    {
      "cell_type": "code",
      "execution_count": null,
      "metadata": {
        "colab": {
          "base_uri": "https://localhost:8080/",
          "height": 1000,
          "referenced_widgets": [
            "877e4e67a5a14a3d9552e4e336dff007",
            "b01cb6c5454f4bb9ac5245bee5cfdc1b",
            "430b38f9b3ea482b81acb10f913a94f3",
            "241cdf7d93304417bafbc7033d93aa1a",
            "80b764ccd49d4937a7a7184e7e3faa6e",
            "521c641f56b24e6b801f6034d1bd6f68",
            "a304eb25bc6d4ac9a2e3182b28852ec4",
            "335d0f06240f40b9bc7fa79bed9daeee",
            "c37c6b74e64b48a5a8f5397fa283e6f6",
            "52dd4d75fcbd43ba99aea5a56417db37",
            "c47181e05680411c8327d48285162b68"
          ]
        },
        "id": "w-WAq6w-kL7x",
        "outputId": "974a8c0d-42eb-4622-b91d-090c5ebec00c"
      },
      "outputs": [
        {
          "name": "stdout",
          "output_type": "stream",
          "text": [
            "is_classifier\n",
            "is_regressor\n",
            "is_classifier\n",
            "is_regressor\n",
            "is_classifier\n",
            "is_regressor\n"
          ]
        },
        {
          "name": "stderr",
          "output_type": "stream",
          "text": [
            "/usr/local/lib/python3.11/dist-packages/sklearn/base.py:1230: FutureWarning: passing a class to None is deprecated and will be removed in 1.8. Use an instance of the class instead.\n",
            "  warnings.warn(\n",
            "/usr/local/lib/python3.11/dist-packages/sklearn/base.py:1270: FutureWarning: passing a class to None is deprecated and will be removed in 1.8. Use an instance of the class instead.\n",
            "  warnings.warn(\n"
          ]
        },
        {
          "name": "stdout",
          "output_type": "stream",
          "text": [
            "is_classifier\n",
            "is_classifier\n",
            "is_classifier\n",
            "is_classifier\n",
            "is_regressor\n",
            "is_classifier\n",
            "is_regressor\n",
            "is_classifier\n",
            "is_regressor\n",
            "is_classifier\n",
            "is_regressor\n",
            "is_classifier\n",
            "is_regressor\n",
            "is_classifier\n",
            "is_regressor\n",
            "is_classifier\n",
            "is_regressor\n",
            "is_classifier\n",
            "is_classifier\n",
            "is_classifier\n",
            "is_classifier\n",
            "is_classifier\n",
            "is_classifier\n",
            "is_classifier\n",
            "is_classifier\n",
            "is_regressor\n",
            "is_classifier\n",
            "is_regressor\n",
            "is_classifier\n",
            "is_regressor\n",
            "is_classifier\n",
            "is_regressor\n",
            "is_classifier\n",
            "is_regressor\n",
            "is_classifier\n",
            "is_regressor\n",
            "is_classifier\n",
            "is_regressor\n",
            "is_classifier\n",
            "is_classifier\n",
            "is_classifier\n",
            "is_regressor\n",
            "is_classifier\n",
            "is_regressor\n",
            "is_classifier\n"
          ]
        },
        {
          "data": {
            "application/vnd.jupyter.widget-view+json": {
              "model_id": "877e4e67a5a14a3d9552e4e336dff007",
              "version_major": 2,
              "version_minor": 0
            },
            "text/plain": [
              "Optimization Progress:   0%|          | 0/120 [00:00<?, ?pipeline/s]"
            ]
          },
          "metadata": {},
          "output_type": "display_data"
        },
        {
          "name": "stdout",
          "output_type": "stream",
          "text": [
            "\n",
            "Generation 1 - Current best internal CV score: 0.7404119172752713\n",
            "\n",
            "Generation 2 - Current best internal CV score: 0.7404119172752713\n",
            "\n",
            "Generation 3 - Current best internal CV score: 0.7413352095537789\n",
            "\n",
            "Generation 4 - Current best internal CV score: 0.747169488254303\n",
            "\n",
            "Generation 5 - Current best internal CV score: 0.747169488254303\n",
            "\n",
            "Best pipeline: MLPClassifier(ZeroCount(input_matrix), alpha=0.1, learning_rate_init=0.01)\n",
            "TPOT AUC Score: 0.6499\n",
            "Best pipeline: Pipeline(steps=[('zerocount', ZeroCount()),\n",
            "                ('mlpclassifier',\n",
            "                 MLPClassifier(alpha=0.1, learning_rate_init=0.01,\n",
            "                               random_state=42))])\n"
          ]
        }
      ],
      "source": [
        "# Import TPOTClassifier and roc_auc_score\n",
        "from tpot import TPOTClassifier\n",
        "from sklearn.metrics import roc_auc_score\n",
        "\n",
        "# Initialize the TPOT classifier\n",
        "tpot = TPOTClassifier(verbosity=2, random_state=42, scoring='roc_auc', generations=5, population_size=20)\n",
        "\n",
        "# Train the TPOT model using the normalized training data\n",
        "tpot.fit(X_train_normed, y_train)\n",
        "\n",
        "# Get the AUC score for the TPOT model\n",
        "tpot_auc_score = roc_auc_score(y_test, tpot.predict(X_test_normed))\n",
        "print(f'TPOT AUC Score: {tpot_auc_score:.4f}')\n",
        "\n",
        "# Display the best pipeline found by TPOT\n",
        "print(\"Best pipeline:\", tpot.fitted_pipeline_)\n"
      ]
    },
    {
      "cell_type": "code",
      "execution_count": null,
      "metadata": {
        "colab": {
          "base_uri": "https://localhost:8080/"
        },
        "id": "2WxOrk7KlzJ-",
        "outputId": "b16483e5-92f8-431b-98e7-6fb1dd108c2e"
      },
      "outputs": [
        {
          "name": "stdout",
          "output_type": "stream",
          "text": [
            "TPOT AUC Score:  0.6499\n"
          ]
        }
      ],
      "source": [
        "# Make predictions using the best pipeline found by TPOT\n",
        "y_pred_tpot = tpot.predict(X_test_normed)\n",
        "\n",
        "# Calculate and print the AUC score for TPOT model\n",
        "tpot_auc = roc_auc_score(y_test, y_pred_tpot)\n",
        "print(\"TPOT AUC Score: \", round(tpot_auc, 4))\n"
      ]
    },
    {
      "cell_type": "code",
      "execution_count": null,
      "metadata": {
        "colab": {
          "base_uri": "https://localhost:8080/"
        },
        "id": "NerAgQDMhvlw",
        "outputId": "3afce7e8-2451-45c8-d88d-eb027fc545af"
      },
      "outputs": [
        {
          "name": "stdout",
          "output_type": "stream",
          "text": [
            "Logistic Regression AUC Score: 0.5424\n"
          ]
        }
      ],
      "source": [
        "from sklearn.linear_model import LogisticRegression\n",
        "from sklearn.metrics import roc_auc_score\n",
        "\n",
        "# Initialize the Logistic Regression model\n",
        "logreg = LogisticRegression(random_state=42)\n",
        "\n",
        "# Train the model on the normalized training data\n",
        "logreg.fit(X_train_normed, y_train)\n",
        "\n",
        "# Predict on the test set\n",
        "y_pred = logreg.predict(X_test_normed)\n",
        "\n",
        "# Calculate the AUC score\n",
        "logreg_auc_score = roc_auc_score(y_test, y_pred)\n",
        "print(f'Logistic Regression AUC Score: {logreg_auc_score:.4f}')\n"
      ]
    },
    {
      "cell_type": "code",
      "execution_count": null,
      "metadata": {
        "colab": {
          "base_uri": "https://localhost:8080/"
        },
        "id": "0jnp6cdEiPWr",
        "outputId": "fa7fcdaf-3c5d-4d5a-b308-1e947744a911"
      },
      "outputs": [
        {
          "name": "stdout",
          "output_type": "stream",
          "text": [
            "Model 1: Logistic Regression with AUC Score: 0.5424\n"
          ]
        }
      ],
      "source": [
        "from operator import itemgetter\n",
        "\n",
        "# Create a list of model_name and model_score pairs\n",
        "models = [(\"Logistic Regression\", logreg_auc_score)]\n",
        "\n",
        "# Sort the models by AUC score in descending order\n",
        "sorted_models = sorted(models, key=itemgetter(1), reverse=True)\n",
        "\n",
        "# Print the sorted models\n",
        "for idx, (model_name, model_score) in enumerate(sorted_models, 1):\n",
        "    print(f\"Model {idx}: {model_name} with AUC Score: {model_score:.4f}\")\n"
      ]
    },
    {
      "cell_type": "code",
      "execution_count": null,
      "metadata": {
        "colab": {
          "base_uri": "https://localhost:8080/"
        },
        "id": "4szIb2CylnP2",
        "outputId": "5edb8aa8-f9ab-46fc-cb70-ef8ae8b503db"
      },
      "outputs": [
        {
          "name": "stdout",
          "output_type": "stream",
          "text": [
            "Logistic Regression AUC Score:  0.5424\n",
            "TPOT AUC Score:  0.6499\n"
          ]
        }
      ],
      "source": [
        "# Compare AUC scores\n",
        "print(\"Logistic Regression AUC Score: \", round(logreg_auc_score, 4))\n",
        "print(\"TPOT AUC Score: \", round(tpot_auc, 4))\n"
      ]
    },
    {
      "cell_type": "code",
      "execution_count": null,
      "metadata": {
        "colab": {
          "base_uri": "https://localhost:8080/",
          "height": 472
        },
        "id": "ElLQ5QnnoceN",
        "outputId": "4cf061ce-7c31-4389-e20c-a634d138bc20"
      },
      "outputs": [
        {
          "data": {
            "image/png": "[encoded data removed]",
            "text/plain": [
              "<Figure size 640x480 with 1 Axes>"
            ]
          },
          "metadata": {},
          "output_type": "display_data"
        }
      ],
      "source": [
        "import matplotlib.pyplot as plt\n",
        "import seaborn as sns\n",
        "\n",
        "# Plot target incidence distribution\n",
        "sns.countplot(x='target', data=transfusion)\n",
        "plt.title('Target Incidence Distribution')\n",
        "plt.xlabel('Target (0 = No, 1 = Yes)')\n",
        "plt.ylabel('Count')\n",
        "plt.show()\n"
      ]
    },
    {
      "cell_type": "code",
      "execution_count": null,
      "metadata": {
        "colab": {
          "base_uri": "https://localhost:8080/",
          "height": 622
        },
        "id": "rxkvYGnfoe49",
        "outputId": "a6c33696-ac2a-403a-8639-0969f9a19886"
      },
      "outputs": [
        {
          "data": {
            "image/png": "[encoded data removed]",
            "text/plain": [
              "<Figure size 1000x700 with 2 Axes>"
            ]
          },
          "metadata": {},
          "output_type": "display_data"
        }
      ],
      "source": [
        "# Calculate correlation matrix\n",
        "corr_matrix = X.corr()\n",
        "# Plot heatmap\n",
        "plt.figure(figsize=(10, 7))\n",
        "sns.heatmap(corr_matrix, annot=True, cmap='coolwarm', fmt='.2f')\n",
        "plt.title('Feature Correlation Heatmap')\n",
        "plt.show()\n"
      ]
    },
    {
      "cell_type": "code",
      "execution_count": null,
      "metadata": {
        "colab": {
          "base_uri": "https://localhost:8080/",
          "height": 391
        },
        "id": "Kipzid5PojHm",
        "outputId": "9a5761c4-4147-475e-e096-ff0399bdfd0f"
      },
      "outputs": [
        {
          "data": {
            "image/png": "[encoded data removed]",
            "text/plain": [
              "<Figure size 600x400 with 1 Axes>"
            ]
          },
          "metadata": {},
          "output_type": "display_data"
        }
      ],
      "source": [
        "# AUC scores of models\n",
        "model_auc_scores = {\n",
        "    'Logistic Regression': logreg_auc_score,\n",
        "    'TPOT': tpot_auc_score\n",
        "}\n",
        "\n",
        "# Plot AUC scores\n",
        "plt.figure(figsize=(6, 4))\n",
        "sns.barplot(x=list(model_auc_scores.keys()), y=list(model_auc_scores.values()))\n",
        "plt.title('AUC Score Comparison')\n",
        "plt.ylabel('AUC Score')\n",
        "plt.show()\n"
      ]
    },
    {
      "cell_type": "code",
      "execution_count": null,
      "metadata": {
        "colab": {
          "base_uri": "https://localhost:8080/",
          "height": 472
        },
        "id": "pBpZpUbkonMm",
        "outputId": "9f3d1b0d-d0b3-4b3f-d57a-61b7e0b0a2e3"
      },
      "outputs": [
        {
          "data": {
            "image/png": "[encoded data removed]",
            "text/plain": [
              "<Figure size 640x480 with 2 Axes>"
            ]
          },
          "metadata": {},
          "output_type": "display_data"
        }
      ],
      "source": [
        "from sklearn.metrics import confusion_matrix, ConfusionMatrixDisplay\n",
        "\n",
        "# Generate confusion matrix for Logistic Regression\n",
        "cm = confusion_matrix(y_test, y_pred)\n",
        "disp = ConfusionMatrixDisplay(confusion_matrix=cm, display_labels=['No Donation', 'Donation'])\n",
        "disp.plot(cmap='Blues')\n",
        "plt.title('Confusion Matrix for Logistic Regression')\n",
        "plt.show()\n",
        "\n"
      ]
    },
    {
      "cell_type": "code",
      "execution_count": null,
      "metadata": {
        "colab": {
          "base_uri": "https://localhost:8080/",
          "height": 564
        },
        "id": "zQjsnOPVovI-",
        "outputId": "b9e175a1-3eca-4a98-e9ef-3a7f932d5243"
      },
      "outputs": [
        {
          "data": {
            "image/png": "[encoded data removed]",
            "text/plain": [
              "<Figure size 800x600 with 1 Axes>"
            ]
          },
          "metadata": {},
          "output_type": "display_data"
        }
      ],
      "source": [
        "from sklearn.metrics import roc_curve, auc\n",
        "\n",
        "# ROC curve for Logistic Regression\n",
        "fpr, tpr, _ = roc_curve(y_test, logreg.predict_proba(X_test_normed)[:, 1])\n",
        "roc_auc = auc(fpr, tpr)\n",
        "\n",
        "# Plot ROC curve for Logistic Regression\n",
        "plt.figure(figsize=(8, 6))\n",
        "plt.plot(fpr, tpr, color='blue', label=f'Logistic Regression (AUC = {roc_auc:.4f})')\n",
        "\n",
        "# ROC curve for TPOT model\n",
        "fpr_tpot, tpr_tpot, _ = roc_curve(y_test, tpot.predict_proba(X_test_normed)[:, 1])\n",
        "roc_auc_tpot = auc(fpr_tpot, tpr_tpot)\n",
        "plt.plot(fpr_tpot, tpr_tpot, color='red', label=f'TPOT (AUC = {roc_auc_tpot:.4f})')\n",
        "\n",
        "# Add plot details\n",
        "plt.plot([0, 1], [0, 1], color='gray', linestyle='--')\n",
        "plt.title('Receiver Operating Characteristic (ROC) Curve')\n",
        "plt.xlabel('False Positive Rate')\n",
        "plt.ylabel('True Positive Rate')\n",
        "plt.legend(loc='lower right')\n",
        "plt.show()\n"
      ]
    }
  ],
  "metadata": {
    "colab": {
      "provenance": []
    },
    "kernelspec": {
      "display_name": "Python 3",
      "name": "python3"
    },
    "language_info": {
      "name": "python"
    },
    "widgets": {
      "application/vnd.jupyter.widget-state+json": {
        "241cdf7d93304417bafbc7033d93aa1a": {
          "model_module": "@jupyter-widgets/controls",
          "model_module_version": "1.5.0",
          "model_name": "HTMLModel",
          "state": {
            "_dom_classes": [],
            "_model_module": "@jupyter-widgets/controls",
            "_model_module_version": "1.5.0",
            "_model_name": "HTMLModel",
            "_view_count": null,
            "_view_module": "@jupyter-widgets/controls",
            "_view_module_version": "1.5.0",
            "_view_name": "HTMLView",
            "description": "",
            "description_tooltip": null,
            "layout": "IPY_MODEL_52dd4d75fcbd43ba99aea5a56417db37",
            "placeholder": "​",
            "style": "IPY_MODEL_c47181e05680411c8327d48285162b68",
            "value": " 120/120 [02:57&lt;00:00,  1.34s/pipeline]"
          }
        },
        "335d0f06240f40b9bc7fa79bed9daeee": {
          "model_module": "@jupyter-widgets/base",
          "model_module_version": "1.2.0",
          "model_name": "LayoutModel",
          "state": {
            "_model_module": "@jupyter-widgets/base",
            "_model_module_version": "1.2.0",
            "_model_name": "LayoutModel",
            "_view_count": null,
            "_view_module": "@jupyter-widgets/base",
            "_view_module_version": "1.2.0",
            "_view_name": "LayoutView",
            "align_content": null,
            "align_items": null,
            "align_self": null,
            "border": null,
            "bottom": null,
            "display": null,
            "flex": null,
            "flex_flow": null,
            "grid_area": null,
            "grid_auto_columns": null,
            "grid_auto_flow": null,
            "grid_auto_rows": null,
            "grid_column": null,
            "grid_gap": null,
            "grid_row": null,
            "grid_template_areas": null,
            "grid_template_columns": null,
            "grid_template_rows": null,
            "height": null,
            "justify_content": null,
            "justify_items": null,
            "left": null,
            "margin": null,
            "max_height": null,
            "max_width": null,
            "min_height": null,
            "min_width": null,
            "object_fit": null,
            "object_position": null,
            "order": null,
            "overflow": null,
            "overflow_x": null,
            "overflow_y": null,
            "padding": null,
            "right": null,
            "top": null,
            "visibility": null,
            "width": null
          }
        },
        "430b38f9b3ea482b81acb10f913a94f3": {
          "model_module": "@jupyter-widgets/controls",
          "model_module_version": "1.5.0",
          "model_name": "FloatProgressModel",
          "state": {
            "_dom_classes": [],
            "_model_module": "@jupyter-widgets/controls",
            "_model_module_version": "1.5.0",
            "_model_name": "FloatProgressModel",
            "_view_count": null,
            "_view_module": "@jupyter-widgets/controls",
            "_view_module_version": "1.5.0",
            "_view_name": "ProgressView",
            "bar_style": "",
            "description": "",
            "description_tooltip": null,
            "layout": "IPY_MODEL_335d0f06240f40b9bc7fa79bed9daeee",
            "max": 120,
            "min": 0,
            "orientation": "horizontal",
            "style": "IPY_MODEL_c37c6b74e64b48a5a8f5397fa283e6f6",
            "value": 120
          }
        },
        "521c641f56b24e6b801f6034d1bd6f68": {
          "model_module": "@jupyter-widgets/base",
          "model_module_version": "1.2.0",
          "model_name": "LayoutModel",
          "state": {
            "_model_module": "@jupyter-widgets/base",
            "_model_module_version": "1.2.0",
            "_model_name": "LayoutModel",
            "_view_count": null,
            "_view_module": "@jupyter-widgets/base",
            "_view_module_version": "1.2.0",
            "_view_name": "LayoutView",
            "align_content": null,
            "align_items": null,
            "align_self": null,
            "border": null,
            "bottom": null,
            "display": null,
            "flex": null,
            "flex_flow": null,
            "grid_area": null,
            "grid_auto_columns": null,
            "grid_auto_flow": null,
            "grid_auto_rows": null,
            "grid_column": null,
            "grid_gap": null,
            "grid_row": null,
            "grid_template_areas": null,
            "grid_template_columns": null,
            "grid_template_rows": null,
            "height": null,
            "justify_content": null,
            "justify_items": null,
            "left": null,
            "margin": null,
            "max_height": null,
            "max_width": null,
            "min_height": null,
            "min_width": null,
            "object_fit": null,
            "object_position": null,
            "order": null,
            "overflow": null,
            "overflow_x": null,
            "overflow_y": null,
            "padding": null,
            "right": null,
            "top": null,
            "visibility": null,
            "width": null
          }
        },
        "52dd4d75fcbd43ba99aea5a56417db37": {
          "model_module": "@jupyter-widgets/base",
          "model_module_version": "1.2.0",
          "model_name": "LayoutModel",
          "state": {
            "_model_module": "@jupyter-widgets/base",
            "_model_module_version": "1.2.0",
            "_model_name": "LayoutModel",
            "_view_count": null,
            "_view_module": "@jupyter-widgets/base",
            "_view_module_version": "1.2.0",
            "_view_name": "LayoutView",
            "align_content": null,
            "align_items": null,
            "align_self": null,
            "border": null,
            "bottom": null,
            "display": null,
            "flex": null,
            "flex_flow": null,
            "grid_area": null,
            "grid_auto_columns": null,
            "grid_auto_flow": null,
            "grid_auto_rows": null,
            "grid_column": null,
            "grid_gap": null,
            "grid_row": null,
            "grid_template_areas": null,
            "grid_template_columns": null,
            "grid_template_rows": null,
            "height": null,
            "justify_content": null,
            "justify_items": null,
            "left": null,
            "margin": null,
            "max_height": null,
            "max_width": null,
            "min_height": null,
            "min_width": null,
            "object_fit": null,
            "object_position": null,
            "order": null,
            "overflow": null,
            "overflow_x": null,
            "overflow_y": null,
            "padding": null,
            "right": null,
            "top": null,
            "visibility": null,
            "width": null
          }
        },
        "80b764ccd49d4937a7a7184e7e3faa6e": {
          "model_module": "@jupyter-widgets/base",
          "model_module_version": "1.2.0",
          "model_name": "LayoutModel",
          "state": {
            "_model_module": "@jupyter-widgets/base",
            "_model_module_version": "1.2.0",
            "_model_name": "LayoutModel",
            "_view_count": null,
            "_view_module": "@jupyter-widgets/base",
            "_view_module_version": "1.2.0",
            "_view_name": "LayoutView",
            "align_content": null,
            "align_items": null,
            "align_self": null,
            "border": null,
            "bottom": null,
            "display": null,
            "flex": null,
            "flex_flow": null,
            "grid_area": null,
            "grid_auto_columns": null,
            "grid_auto_flow": null,
            "grid_auto_rows": null,
            "grid_column": null,
            "grid_gap": null,
            "grid_row": null,
            "grid_template_areas": null,
            "grid_template_columns": null,
            "grid_template_rows": null,
            "height": null,
            "justify_content": null,
            "justify_items": null,
            "left": null,
            "margin": null,
            "max_height": null,
            "max_width": null,
            "min_height": null,
            "min_width": null,
            "object_fit": null,
            "object_position": null,
            "order": null,
            "overflow": null,
            "overflow_x": null,
            "overflow_y": null,
            "padding": null,
            "right": null,
            "top": null,
            "visibility": "hidden",
            "width": null
          }
        },
        "877e4e67a5a14a3d9552e4e336dff007": {
          "model_module": "@jupyter-widgets/controls",
          "model_module_version": "1.5.0",
          "model_name": "HBoxModel",
          "state": {
            "_dom_classes": [],
            "_model_module": "@jupyter-widgets/controls",
            "_model_module_version": "1.5.0",
            "_model_name": "HBoxModel",
            "_view_count": null,
            "_view_module": "@jupyter-widgets/controls",
            "_view_module_version": "1.5.0",
            "_view_name": "HBoxView",
            "box_style": "",
            "children": [
              "IPY_MODEL_b01cb6c5454f4bb9ac5245bee5cfdc1b",
              "IPY_MODEL_430b38f9b3ea482b81acb10f913a94f3",
              "IPY_MODEL_241cdf7d93304417bafbc7033d93aa1a"
            ],
            "layout": "IPY_MODEL_80b764ccd49d4937a7a7184e7e3faa6e"
          }
        },
        "a304eb25bc6d4ac9a2e3182b28852ec4": {
          "model_module": "@jupyter-widgets/controls",
          "model_module_version": "1.5.0",
          "model_name": "DescriptionStyleModel",
          "state": {
            "_model_module": "@jupyter-widgets/controls",
            "_model_module_version": "1.5.0",
            "_model_name": "DescriptionStyleModel",
            "_view_count": null,
            "_view_module": "@jupyter-widgets/base",
            "_view_module_version": "1.2.0",
            "_view_name": "StyleView",
            "description_width": ""
          }
        },
        "b01cb6c5454f4bb9ac5245bee5cfdc1b": {
          "model_module": "@jupyter-widgets/controls",
          "model_module_version": "1.5.0",
          "model_name": "HTMLModel",
          "state": {
            "_dom_classes": [],
            "_model_module": "@jupyter-widgets/controls",
            "_model_module_version": "1.5.0",
            "_model_name": "HTMLModel",
            "_view_count": null,
            "_view_module": "@jupyter-widgets/controls",
            "_view_module_version": "1.5.0",
            "_view_name": "HTMLView",
            "description": "",
            "description_tooltip": null,
            "layout": "IPY_MODEL_521c641f56b24e6b801f6034d1bd6f68",
            "placeholder": "​",
            "style": "IPY_MODEL_a304eb25bc6d4ac9a2e3182b28852ec4",
            "value": "Optimization Progress: 100%"
          }
        },
        "c37c6b74e64b48a5a8f5397fa283e6f6": {
          "model_module": "@jupyter-widgets/controls",
          "model_module_version": "1.5.0",
          "model_name": "ProgressStyleModel",
          "state": {
            "_model_module": "@jupyter-widgets/controls",
            "_model_module_version": "1.5.0",
            "_model_name": "ProgressStyleModel",
            "_view_count": null,
            "_view_module": "@jupyter-widgets/base",
            "_view_module_version": "1.2.0",
            "_view_name": "StyleView",
            "bar_color": null,
            "description_width": ""
          }
        },
        "c47181e05680411c8327d48285162b68": {
          "model_module": "@jupyter-widgets/controls",
          "model_module_version": "1.5.0",
          "model_name": "DescriptionStyleModel",
          "state": {
            "_model_module": "@jupyter-widgets/controls",
            "_model_module_version": "1.5.0",
            "_model_name": "DescriptionStyleModel",
            "_view_count": null,
            "_view_module": "@jupyter-widgets/base",
            "_view_module_version": "1.2.0",
            "_view_name": "StyleView",
            "description_width": ""
          }
        }
      }
    }
  },
  "nbformat": 4,
  "nbformat_minor": 0
}